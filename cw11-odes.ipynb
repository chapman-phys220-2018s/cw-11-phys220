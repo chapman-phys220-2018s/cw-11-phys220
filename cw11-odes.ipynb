{
 "cells": [
  {
   "cell_type": "markdown",
   "metadata": {
    "collapsed": false
   },
   "source": [
    "## CW 11\n",
    "\n",
    "Daniel, Devon, Myranda\n",
    "April 2018"
   ]
  },
  {
   "cell_type": "markdown",
   "metadata": {
    "collapsed": false
   },
   "source": [
    "##### I. Euler's Method\n",
    "This method is used to find the first order of an ordinary differentail equation given an initial starting point or value. Next, it is necessary to find the slope of than tangent line, and do this repeatedly until we have reached the desired value or time. Jumping to the next point is considered to be the \"step size\" and the step size can be either uniform or not uniform depending on the ODE in question."
   ]
  },
  {
   "cell_type": "markdown",
   "metadata": {
    "collapsed": false
   },
   "source": [
    "##### II. Leapfrog Method\n",
    "This method is somewhat similar to Euler's method, however it is used to find the second order of a given ordinary differential equation. It requires the same number of evalutions of the function per step. Instead of taking the forward difference, like in Euler's Method, the leapfrog method makes use of the middle point method. So now, it is required that we have two boundary conditions, instead of one. "
   ]
  },
  {
   "cell_type": "markdown",
   "metadata": {
    "collapsed": false
   },
   "source": [
    "##### III. Heun's Method"
   ]
  },
  {
   "cell_type": "markdown",
   "metadata": {
    "collapsed": false
   },
   "source": [
    "##### IV. Runge Kutta Method (to 2nd order)"
   ]
  },
  {
   "cell_type": "markdown",
   "metadata": {
    "collapsed": false
   },
   "source": [
    "##### V. Runge Kutta Method (to 4th order)"
   ]
  }
 ],
 "metadata": {
  "kernelspec": {
   "display_name": "Python 3 (Anaconda)",
   "language": "python",
   "name": "anaconda3"
  },
  "language_info": {
   "codemirror_mode": {
    "name": "ipython",
    "version": 3
   },
   "file_extension": ".py",
   "mimetype": "text/x-python",
   "name": "python",
   "nbconvert_exporter": "python",
   "pygments_lexer": "ipython3",
   "version": "3.5.5"
  }
 },
 "nbformat": 4,
 "nbformat_minor": 0
}