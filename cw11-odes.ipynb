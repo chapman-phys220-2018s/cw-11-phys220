{
 "cells": [
  {
   "cell_type": "markdown",
   "metadata": {
    "collapsed": false
   },
   "source": [
    "## CW 11\n",
    "\n",
    "Daniel, Devon, Myranda\n",
    "April 2018"
   ]
  },
  {
   "cell_type": "markdown",
   "metadata": {
    "collapsed": false
   },
   "source": [
    "##### I. Euler's Method\n",
    "This method is used to find the first order of an ordinary differentail equation given an initial starting point or value. Next, it is necessary to find the slope of than tangent line at the beginning of the function, and do this repeatedly until we have reached the desired value or time. Jumping to the next point is considered to be the \"step size\" and the step size can be either uniform or not uniform depending on the ODE in question. If the step size is small, the error will be small, however for larger steps, the error becomes larger."
   ]
  },
  {
   "cell_type": "markdown",
   "metadata": {
    "collapsed": false
   },
   "source": [
    "##### II. Leapfrog Method\n",
    "This method is somewhat similar to Euler's method, however it is used to find the second order of a given ordinary differential equation. It requires the same number of evalutions of the function per step. Instead of taking the forward difference, like in Euler's Method, the leapfrog method makes use of the middle point method. So now, it is required that we have two boundary conditions, instead of one. "
   ]
  },
  {
   "cell_type": "markdown",
   "metadata": {
    "collapsed": false
   },
   "source": [
    "##### III. Heun's Method\n",
    "This method is often referred to as the trapzoidal method. Again, here, we need to start with an initial value. Heun's method looks at the tangent as a whole, over the entire interval of the desired function. The basic idea here is that at one end of the interval, the tangent line is an overestimate and similarily, at the other end of the interval, the tangent line is an underestimate. Looking at a point in the middle of these estimations gives a clearer approximation i.e. taking the average of the two estimates. \n"
   ]
  },
  {
   "cell_type": "markdown",
   "metadata": {
    "collapsed": false
   },
   "source": [
    "##### IV. Runge Kutta Method (2nd order)\n",
    "This method is similar to Heun's method in the sense that they are both used to find the second order of ordinary differential equations. The idea here is that we are using a step method like before but instead, we use the midpoints of the \"next\" intervals to cancel out the previous lower-order terms. This meaning that we use the previous slope to find the \"solution\" to the next, upcoming step."
   ]
  },
  {
   "cell_type": "markdown",
   "metadata": {
    "collapsed": false
   },
   "source": [
    "##### V. Runge Kutta Method (4th order)\n",
    "This method is extremely similar to the RK2 method except the RK4 method uses 4 points to find an approximations of the slope. It tends to be more accurate that RK2. When using this method, the values of the midpoints of the slope is higher than that at the endpoints. This method is used to find only the first order of the ordinary differential equation. "
   ]
  }
 ],
 "metadata": {
  "kernelspec": {
   "display_name": "Python 3 (Anaconda)",
   "language": "python",
   "name": "anaconda3"
  },
  "language_info": {
   "codemirror_mode": {
    "name": "ipython",
    "version": 3
   },
   "file_extension": ".py",
   "mimetype": "text/x-python",
   "name": "python",
   "nbconvert_exporter": "python",
   "pygments_lexer": "ipython3",
   "version": "3.5.5"
  }
 },
 "nbformat": 4,
 "nbformat_minor": 0
}